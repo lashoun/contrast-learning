{
 "cells": [
  {
   "cell_type": "code",
   "execution_count": 3,
   "metadata": {},
   "outputs": [],
   "source": [
    "import numpy as np"
   ]
  },
  {
   "cell_type": "code",
   "execution_count": null,
   "metadata": {},
   "outputs": [],
   "source": [
    "def closest_sample(samples, X):\n",
    "    parents = np.zeros(N)\n",
    "    for i,_ in enumerate(X):\n",
    "        nn = N/10\n",
    "        if (i%nn==1):\n",
    "            print(\"found closest sample to point {}\".format(i-1))\n",
    "        xscale = np.linspace(np.min(X[:,0]), np.max(X[:,0]), num=sample_x)\n",
    "        left = min(np.nonzero(xscale >= X[i][0])[0][0], sample_x-2)\n",
    "        yscale = np.linspace(np.min(X[:,1]), np.max(X[:,1]), num=sample_y)\n",
    "        bottom = min(np.nonzero(yscale >= X[i][1])[0][0], sample_y-2)\n",
    "        parents[i] = sample_y * left + bottom\n",
    "        best_weight = compute_kde(samples[sample_y * left + bottom], X)\n",
    "        corners = [(left+1, bottom), (left, bottom+1), (left+1, bottom+1)]\n",
    "        for ci, cj in corners:\n",
    "            weight = compute_kde(samples[sample_y * ci + cj], X)\n",
    "            if weight > best_weight:\n",
    "                parents[i] = sample_y * ci + cj\n",
    "                best_weight = weight\n",
    "    return parents"
   ]
  },
  {
   "cell_type": "code",
   "execution_count": 28,
   "metadata": {},
   "outputs": [
    {
     "data": {
      "text/plain": [
       "array([0, 1, 2])"
      ]
     },
     "execution_count": 28,
     "metadata": {},
     "output_type": "execute_result"
    }
   ],
   "source": [
    "a = np.array([0, 1, 2])\n",
    "a[:None]"
   ]
  },
  {
   "cell_type": "code",
   "execution_count": 34,
   "metadata": {},
   "outputs": [
    {
     "data": {
      "text/plain": [
       "array([[-1., -1., -1.],\n",
       "       [-1., -1., -1.],\n",
       "       [-1., -1., -1.],\n",
       "       [-1., -1., -1.],\n",
       "       [-1., -1., -1.]])"
      ]
     },
     "execution_count": 34,
     "metadata": {},
     "output_type": "execute_result"
    }
   ],
   "source": [
    "a = np.empty((5,3))\n",
    "a.fill(-1)\n",
    "a"
   ]
  },
  {
   "cell_type": "code",
   "execution_count": null,
   "metadata": {},
   "outputs": [],
   "source": []
  }
 ],
 "metadata": {
  "kernelspec": {
   "display_name": "Python 3",
   "language": "python",
   "name": "python3"
  },
  "language_info": {
   "codemirror_mode": {
    "name": "ipython",
    "version": 3
   },
   "file_extension": ".py",
   "mimetype": "text/x-python",
   "name": "python",
   "nbconvert_exporter": "python",
   "pygments_lexer": "ipython3",
   "version": "3.7.1"
  }
 },
 "nbformat": 4,
 "nbformat_minor": 2
}
